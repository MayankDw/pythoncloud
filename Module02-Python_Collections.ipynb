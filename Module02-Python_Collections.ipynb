{
 "cells": [
  {
   "cell_type": "markdown",
   "metadata": {
    "colab_type": "text",
    "id": "view-in-github"
   },
   "source": [
    "<a href=\"https://colab.research.google.com/github/roitraining/techtrek-python/blob/main/Module02-Python_Collections.ipynb\" target=\"_parent\"><img src=\"https://colab.research.google.com/assets/colab-badge.svg\" alt=\"Open In Colab\"/></a>"
   ]
  },
  {
   "cell_type": "markdown",
   "metadata": {
    "id": "yUJrEdPRdpjp"
   },
   "source": [
    "# Python Collections"
   ]
  },
  {
   "cell_type": "markdown",
   "metadata": {
    "id": "bS0SCZbcfWpU"
   },
   "source": [
    "* Here is a <font color='blue' face=\"Courier New\" size=\"+1\">list</font> of numbers.\n",
    "  * We can add and change elements as well as extract elements individually or in <font color='blue'>slices</font>.\n",
    "  * Slices are either a single element or <font color='blue'>range</font> of elements in square brackets <font color='blue' face=\"Courier New\" size=\"+1\">[ ]</font> after the variable name."
   ]
  },
  {
   "cell_type": "code",
   "execution_count": 1,
   "metadata": {
    "id": "192iJLdt7fOG"
   },
   "outputs": [
    {
     "name": "stdout",
     "output_type": "stream",
     "text": [
      "the entire list, note the square brackets in the output\n",
      "[4, 2, 2, 10, 12, 3, 7, 12]\n",
      "\n",
      "the first element, 0 is the first element\n",
      "4\n",
      "\n",
      "the third element, because it starts with 0\n",
      "2\n",
      "\n",
      "the range of elements starting with element 2 (the third element) to the end, note the square brackets\n",
      "[2, 10, 12, 3, 7, 12]\n",
      "\n",
      "the range from the start (element zero) up to but NOT including element 2\n",
      "[4, 2]\n",
      "\n",
      "the range starting at element two up to but NOT including the second from the end (negative 2)\n",
      "[2, 10, 12, 3]\n"
     ]
    }
   ],
   "source": [
    "numbers = [4, 2, 2, 10, 12, 3, 7, 12]\n",
    "print(\"the entire list, note the square brackets in the output\")\n",
    "print(numbers)\n",
    "\n",
    "print(f\"\\nthe first element, 0 is the first element\")\n",
    "print(numbers[0])\n",
    "\n",
    "print(f\"\\nthe third element, because it starts with 0\")\n",
    "print(numbers[2])\n",
    "\n",
    "print(f\"\\nthe range of elements starting with element 2 (the third element) to the end, note the square brackets\")\n",
    "print(numbers[2:])\n",
    "\n",
    "print(f\"\\nthe range from the start (element zero) up to but NOT including element 2\")\n",
    "print(numbers[:2])\n",
    "\n",
    "print(f\"\\nthe range starting at element two up to but NOT including the second from the end (negative 2)\")\n",
    "print(numbers[2:-2])"
   ]
  },
  {
   "cell_type": "code",
   "execution_count": 34,
   "metadata": {},
   "outputs": [
    {
     "data": {
      "text/plain": [
       "[5]"
      ]
     },
     "execution_count": 34,
     "metadata": {},
     "output_type": "execute_result"
    }
   ],
   "source": [
    "numbers[1:2]\n"
   ]
  },
  {
   "cell_type": "markdown",
   "metadata": {
    "id": "AX-4OAA3aWjx"
   },
   "source": [
    "* A <font color='blue' face=\"Courier New\" size=\"+1\">list</font> is also mutable (changeable).\n",
    "  * We can change, add, remove, and sort elements.\n"
   ]
  },
  {
   "cell_type": "code",
   "execution_count": 15,
   "metadata": {
    "id": "ccWL_AnbbvGA"
   },
   "outputs": [
    {
     "name": "stdout",
     "output_type": "stream",
     "text": [
      "change the first element to a value of 5\n",
      "[5, 2, 2, 10, 12, 3, 7, 12]\n",
      "\n",
      "remove the first element with a value of 2\n",
      "[5, 2, 10, 12, 3, 7, 12]\n",
      "\n",
      "add a value of twenty to the end of the list\n",
      "[5, 2, 10, 12, 3, 7, 12, 20]\n",
      "\n",
      "delete element 1 from the list\n",
      "[5, 10, 12, 3, 7, 12, 20]\n",
      "\n",
      "print a list of the numbers sorted, but don't change the list itself\n",
      "sorted [3, 5, 7, 10, 12, 12, 20]\n",
      "original [5, 10, 12, 3, 7, 12, 20]\n",
      "\n",
      "this will mutate or change the list order\n",
      "[3, 5, 7, 10, 12, 12, 20]\n"
     ]
    }
   ],
   "source": [
    "numbers = [4, 2, 2, 10, 12, 3, 7, 12]\n",
    "print(\"change the first element to a value of 5\")\n",
    "numbers[0] = 5\n",
    "print(numbers)\n",
    "\n",
    "print(f\"\\nremove the first element with a value of 2\")\n",
    "numbers.remove(2)\n",
    "print(numbers)\n",
    "\n",
    "print(f\"\\nadd a value of twenty to the end of the list\")\n",
    "numbers.append(20)\n",
    "print(numbers)\n",
    "\n",
    "print(f\"\\ndelete element 1 from the list\")\n",
    "del numbers[1]\n",
    "print(numbers)\n",
    "\n",
    "print(f\"\\nprint a list of the numbers sorted, but don't change the list itself\")\n",
    "print('sorted', sorted(numbers))\n",
    "print('original', numbers)\n",
    "\n",
    "print(f\"\\nthis will mutate or change the list order\")\n",
    "numbers.sort()\n",
    "print(numbers)"
   ]
  },
  {
   "cell_type": "markdown",
   "metadata": {
    "id": "O6Lc2kaVLYYf"
   },
   "source": [
    "* A <font color='blue' face=\"Courier New\" size=\"+1\">list</font> can contain any kind of data.\n",
    "  * If all the elements are the same data type, we call it <font color='blue'>homogeneous</font>.\n",
    "  * If they are different, we call it <font color='blue'>heterogeneous</font>.\n"
   ]
  },
  {
   "cell_type": "code",
   "execution_count": 16,
   "metadata": {
    "id": "fZwRL97acNbk"
   },
   "outputs": [
    {
     "name": "stdout",
     "output_type": "stream",
     "text": [
      "['Sri', 'Alex', 'Martha']\n",
      "[10, 12.3, 10.02, 'ten']\n"
     ]
    }
   ],
   "source": [
    "# homogeneous list of strings\n",
    "names = ['Sri', 'Alex', 'Martha']\n",
    "print(names)\n",
    "\n",
    "# heterogenous list of different types\n",
    "costs = [10, 12.3, 10.02, 'ten']\n",
    "print(costs)\n"
   ]
  },
  {
   "cell_type": "markdown",
   "metadata": {
    "id": "mK3OV5QVelL5"
   },
   "source": [
    "## Try it now: ##\n",
    "#### 1.\tCreate a simple list of five strings.\n",
    "#### 2.\tPrint the first and last element.\n",
    "#### 3.\tChange the second element to something different.\n",
    "#### 4. Sort the list and display it.\n",
    "<br>\n",
    "<details><summary>Click for <b>hint</b></summary>\n",
    "<p>\n",
    "1.\tMake a list of colors or names. Use <font color='blue' face=\"Courier New\" size=\"+1\">[ ]</font> and a quoted list of values separated by commas.\n",
    "<br>\n",
    "2.\tUse <font color='blue' face=\"Courier New\" size=\"+1\">[0]</font> for the first element and <font color='blue' face=\"Courier New\" size=\"+1\">[-1]</font> for the last element.\n",
    "<br>\n",
    "3.\tUse <font color='blue' face=\"Courier New\" size=\"+1\">[1]</font> for the second element and an <font color='blue' face=\"Courier New\" size=\"+1\">=</font> to change the value.\n",
    "<br>\n",
    "4.\tUse the <font color='blue' face=\"Courier New\" size=\"+1\">sort</font> method not the <font color='blue' face=\"Courier New\" size=\"+1\">sorted</font> function.\n",
    "<br>\n",
    "<br>\n",
    "</p>\n",
    "</details>\n",
    "\n",
    "<details><summary>Click for <b>code</b></summary>\n",
    "<p>\n",
    "\n",
    "```python\n",
    "colors = ['red', 'blue', 'green', 'yellow', 'white']\n",
    "print(colors[0], colors[-1])\n",
    "colors[1] = 'black'\n",
    "colors.sort()\n",
    "print(colors)\n",
    "```\n",
    "</p>\n",
    "</details>"
   ]
  },
  {
   "cell_type": "code",
   "execution_count": 17,
   "metadata": {
    "id": "ZmuiTcY0eYmf"
   },
   "outputs": [],
   "source": [
    "fivestr = ['first', 'second', 'third', 'fourth', 'fifth']"
   ]
  },
  {
   "cell_type": "code",
   "execution_count": 21,
   "metadata": {},
   "outputs": [
    {
     "name": "stdout",
     "output_type": "stream",
     "text": [
      "first element is first and last element is fifth\n"
     ]
    }
   ],
   "source": [
    "print(f\"first element is {fivestr[0]} and last element is {fivestr[-1]}\")"
   ]
  },
  {
   "cell_type": "code",
   "execution_count": 22,
   "metadata": {},
   "outputs": [
    {
     "name": "stdout",
     "output_type": "stream",
     "text": [
      "second element is changed\n"
     ]
    }
   ],
   "source": [
    "fivestr[1]='changed'\n",
    "print(f\"second element is {fivestr[1]}\")"
   ]
  },
  {
   "cell_type": "code",
   "execution_count": 27,
   "metadata": {},
   "outputs": [
    {
     "name": "stdout",
     "output_type": "stream",
     "text": [
      "['products.csv', 'README.md', '.gitignore', '.git', 'templates', '.ipynb_checkpoints', 'Module01-Python_Basics.ipynb', 'call_webservice.py', 'Module03-Python_WebDevelopment.ipynb', 'Module02-Python_Collections.ipynb']\n"
     ]
    }
   ],
   "source": [
    "fivestr.sort()\n",
    "fivestr\n",
    "fivestr[::-1]\n",
    "import os\n",
    "files = os.listdir()\n",
    "print(files)"
   ]
  },
  {
   "cell_type": "code",
   "execution_count": 29,
   "metadata": {},
   "outputs": [
    {
     "name": "stdout",
     "output_type": "stream",
     "text": [
      "2\n"
     ]
    }
   ],
   "source": [
    "x = [[1, 2], [3, 4]]\n",
    "print(x[0][1])"
   ]
  },
  {
   "cell_type": "markdown",
   "metadata": {
    "id": "mV0fURPROIfp"
   },
   "source": [
    "* Similar to lists are <font color='blue' face=\"Courier New\" size=\"+1\">sets</font> and <font color='blue' face=\"Courier New\" size=\"+1\">tuples</font>.\n",
    "  * A <font color='blue' face=\"Courier New\" size=\"+1\">set</font> makes sure all the elements in the collection are unique.\n",
    "    * We use curly braces <font color='blue' face=\"Courier New\" size=\"+1\">{ }</font> to surround the elements.\n",
    "  * A <font color='blue' face=\"Courier New\" size=\"+1\">tuple</font> is just like a <font color='blue' face=\"Courier New\" size=\"+1\">list</font> but is not mutable, so once we assign values to it, we can't change them.\n",
    "    * We use parantheses <font color='blue' face=\"Courier New\" size=\"+1\">( )</font> to surround the elements.\n",
    "    * Immutablity is slightly more efficient in some cases."
   ]
  },
  {
   "cell_type": "code",
   "execution_count": null,
   "metadata": {},
   "outputs": [],
   "source": []
  },
  {
   "cell_type": "code",
   "execution_count": 30,
   "metadata": {
    "id": "797LgCXQdPAi"
   },
   "outputs": [
    {
     "name": "stdout",
     "output_type": "stream",
     "text": [
      "{1, 2, 3, 4, 5, 6}\n",
      "a b ('a', 1)\n"
     ]
    }
   ],
   "source": [
    "set1 = {1, 2, 3, 4, 4, 5, 6, 3}\n",
    "print(set1)\n",
    "\n",
    "tuple1 = ('a', 1, 'b')\n",
    "print(tuple1[0], tuple1[-1], tuple1[0:2])\n",
    "\n",
    "# but you cannot change the tuple, so the following code would fail\n",
    "# tuple1[0] = 'z'"
   ]
  },
  {
   "cell_type": "code",
   "execution_count": 35,
   "metadata": {},
   "outputs": [
    {
     "name": "stdout",
     "output_type": "stream",
     "text": [
      "10\n",
      "[1, 2, 3, 4, 5, 6]\n"
     ]
    }
   ],
   "source": [
    "input1 = '10'\n",
    "input2 = int(input1)\n",
    "print(input2)\n",
    "\n",
    "list1 = list(set1)\n",
    "print(list1)"
   ]
  },
  {
   "cell_type": "markdown",
   "metadata": {
    "id": "ggY5-CH8Okw7"
   },
   "source": [
    "* A dictionary or <font color='blue' face=\"Courier New\" size=\"+1\">dict</font> is another kind of collection that takes <font color='blue'>key/value pairs</font>, sometimes just called <font color='blue'>KV</font> for short.\n",
    "* It's sort of like field names and values.\n",
    "  * Often used as a way to represent a record from something like a SQL table.\n",
    "* It also uses curly braces <font color='blue' face=\"Courier New\" size=\"+1\">{ }</font> like a <font color='blue' face=\"Courier New\" size=\"+1\">set</font> does, but it uses a colon <font color='blue' face=\"Courier New\" size=\"+1\">:</font> to separate the key and value.\n",
    "* They are mutable like <font color='blue' face=\"Courier New\" size=\"+1\">list</font> and <font color='blue' face=\"Courier New\" size=\"+1\">set</font> but instead of using a position to access a single element, we use the key to fetch a specific value.\n",
    "  * Keys are usually strings but don't have to be."
   ]
  },
  {
   "cell_type": "code",
   "execution_count": 37,
   "metadata": {
    "id": "jIurdtj5jX4l"
   },
   "outputs": [
    {
     "name": "stdout",
     "output_type": "stream",
     "text": [
      "{'firstname': 'Adam', 'lastname': 'Smith', 'age': 50}\n",
      "\n",
      "the value for the element names firstname\n",
      "Adam\n",
      "\n",
      "change the elemennt for the key lastname to a new value\n",
      "\n",
      "add a new key and value\n",
      "{'firstname': 'Adam', 'lastname': 'Jones', 'age': 50, 'gender': 'M'}\n",
      "\n",
      "print a list of just the keys\n",
      "dict_keys(['firstname', 'lastname', 'age', 'gender'])\n",
      "\n",
      "a list of just the values\n",
      "dict_values(['Adam', 'Jones', 50, 'M'])\n",
      "\n",
      "remove a key from the dictionary\n",
      "{'firstname': 'Adam', 'lastname': 'Jones', 'age': 50}\n"
     ]
    }
   ],
   "source": [
    "record = {'firstname': 'Adam', 'lastname': 'Smith', 'age': 50}\n",
    "print(record)\n",
    "\n",
    "print(f\"\\nthe value for the element names firstname\")\n",
    "print(record['firstname'])\n",
    "\n",
    "print(f\"\\nchange the elemennt for the key lastname to a new value\")\n",
    "record['lastname'] = 'Jones'\n",
    "\n",
    "print(f\"\\nadd a new key and value\")\n",
    "record['gender'] = 'M'\n",
    "print(record)\n",
    "\n",
    "print(f\"\\nprint a list of just the keys\")\n",
    "print(record.keys())\n",
    "\n",
    "print(f\"\\na list of just the values\")\n",
    "print(record.values())\n",
    "\n",
    "print(f\"\\nremove a key from the dictionary\")\n",
    "del record['gender']\n",
    "print(record)"
   ]
  },
  {
   "cell_type": "code",
   "execution_count": 38,
   "metadata": {},
   "outputs": [
    {
     "data": {
      "text/plain": [
       "{'first': 'Mayank', 'last': 'Dwivedi', 'age': 35}"
      ]
     },
     "execution_count": 38,
     "metadata": {},
     "output_type": "execute_result"
    }
   ],
   "source": [
    "mydata = {'first': 'Mayank', 'last': 'Dwivedi', 'age': 35}\n",
    "mydata"
   ]
  },
  {
   "cell_type": "code",
   "execution_count": 52,
   "metadata": {},
   "outputs": [
    {
     "name": "stdout",
     "output_type": "stream",
     "text": [
      "dict_keys(['first', 'last', 'age'])\n",
      "dict_values(['Mayank', 'Dwivedi', 35])\n",
      "Dwivedi\n"
     ]
    },
    {
     "data": {
      "text/plain": [
       "{'first': 'Mayank', 'last': 'Dwivedi', 'age': 35, 'gender': 'Male'}"
      ]
     },
     "execution_count": 52,
     "metadata": {},
     "output_type": "execute_result"
    }
   ],
   "source": [
    "print(mydata.keys())\n",
    "print(mydata.values())\n",
    "print(mydata['last'])\n",
    "mydata['gender'] = 'Male'\n",
    "mydata"
   ]
  },
  {
   "cell_type": "code",
   "execution_count": 53,
   "metadata": {},
   "outputs": [
    {
     "name": "stdout",
     "output_type": "stream",
     "text": [
      "35\n"
     ]
    }
   ],
   "source": [
    "del mydata['gender']\n",
    "mydata\n",
    "print(mydata.pop('age'))"
   ]
  },
  {
   "cell_type": "code",
   "execution_count": 54,
   "metadata": {},
   "outputs": [
    {
     "data": {
      "text/plain": [
       "{'first': 'Mayank', 'last': 'Dwivedi'}"
      ]
     },
     "execution_count": 54,
     "metadata": {},
     "output_type": "execute_result"
    }
   ],
   "source": [
    "mydata"
   ]
  },
  {
   "cell_type": "markdown",
   "metadata": {
    "id": "8fR5JrkknGPR"
   },
   "source": [
    "* Even strings are similar to lists and we can treat each character of the string the same way we do each element of a collection.\n",
    "* That means we can get individual elements or slices with square bracket syntax just like lists.\n"
   ]
  },
  {
   "cell_type": "code",
   "execution_count": 55,
   "metadata": {
    "id": "t1MDeEINnX2o"
   },
   "outputs": [
    {
     "name": "stdout",
     "output_type": "stream",
     "text": [
      "H\n",
      "Han\n"
     ]
    }
   ],
   "source": [
    "name = 'Han Solo'\n",
    "print(name[0])\n",
    "print(name[0:3])"
   ]
  },
  {
   "cell_type": "code",
   "execution_count": null,
   "metadata": {},
   "outputs": [],
   "source": [
    "\n"
   ]
  },
  {
   "cell_type": "markdown",
   "metadata": {
    "id": "c2e9FdcGpDFv"
   },
   "source": [
    "* Generally, we use collections in combination with a <font color='blue' face=\"Courier New\" size=\"+1\">for</font> loop to do something to each element of the collection.\n"
   ]
  },
  {
   "cell_type": "code",
   "execution_count": 57,
   "metadata": {},
   "outputs": [],
   "source": [
    "dict1 = {'first':'mayank'}"
   ]
  },
  {
   "cell_type": "code",
   "execution_count": 60,
   "metadata": {},
   "outputs": [
    {
     "name": "stdout",
     "output_type": "stream",
     "text": [
      "None\n"
     ]
    }
   ],
   "source": [
    "print(dict1.get('last', 'None'))"
   ]
  },
  {
   "cell_type": "code",
   "execution_count": null,
   "metadata": {
    "id": "J3XXZ1ZNpAsy"
   },
   "outputs": [],
   "source": [
    "names = ['Luke', 'Leia', 'Han', 'Ben']\n",
    "for name in names:\n",
    "  print(name.upper())"
   ]
  },
  {
   "cell_type": "markdown",
   "metadata": {
    "id": "43y-Y-tzKG-5"
   },
   "source": [
    "* There are lots of functions that return lists and other collections.\n",
    "* For example, last week we looked at <font color='blue' face=\"Courier New\" size=\"+1\">os.listdir()</font>."
   ]
  },
  {
   "cell_type": "code",
   "execution_count": null,
   "metadata": {
    "id": "6ZUwoiiGKejj"
   },
   "outputs": [],
   "source": [
    "import os\n",
    "print(os.listdir('sample_data'))"
   ]
  },
  {
   "cell_type": "code",
   "execution_count": 62,
   "metadata": {},
   "outputs": [
    {
     "name": "stdout",
     "output_type": "stream",
     "text": [
      "4\n",
      "88\n",
      "72\n"
     ]
    }
   ],
   "source": [
    "import sys \n",
    "\n",
    "list1 = [1, 2, 'None', 'mayank']\n",
    "print(len(list1))\n",
    "print(sys.getsizeof(list1))\n",
    "tup = tuple(list1)\n",
    "print(sys.getsizeof(tup))\n"
   ]
  },
  {
   "cell_type": "markdown",
   "metadata": {
    "id": "hpxj5E-Yq-BU"
   },
   "source": [
    "## Challenge for later: ##\n",
    "### Collections in Python are very powerful and we could spend days going through all the possibilities.\n",
    "### Some additional topics to discover on your own would be:\n",
    "* <a href=\"https://www.geeksforgeeks.org/python-map-function\">map</a>\n",
    "* <a href=\"https://www.learnpython.org/en/List_Comprehensions\">list comprensions</a>\n"
   ]
  },
  {
   "cell_type": "markdown",
   "metadata": {
    "id": "YUujTjvGFGp-"
   },
   "source": [
    "# Complex collections\n",
    "* Combining all these types of collections is possible and can quickly get pretty tricky.\n",
    "* Below is a list of dictionaries which looks a lot like JSON.\n",
    "* It is also similar to a table of data, but it's harder to visualize and process."
   ]
  },
  {
   "cell_type": "code",
   "execution_count": 63,
   "metadata": {
    "id": "AjZpwgTjpAv5"
   },
   "outputs": [
    {
     "name": "stdout",
     "output_type": "stream",
     "text": [
      "[{'team': 'Leicester', 'player': 'Vardy', 'goals': 24}, {'team': 'Manchester City', 'player': 'Aguero', 'goals': 22}, {'team': 'Arsenal', 'player': 'Sanchez', 'goals': 19}]\n"
     ]
    }
   ],
   "source": [
    "data = [{'team': 'Leicester', 'player': 'Vardy', 'goals': 24}\n",
    "        ,{'team': 'Manchester City', 'player': 'Aguero', 'goals': 22}\n",
    "        ,{'team': 'Arsenal', 'player': 'Sanchez', 'goals': 19}]\n",
    "print(data)"
   ]
  },
  {
   "cell_type": "markdown",
   "metadata": {
    "id": "fWsX8Sp1qOX3"
   },
   "source": [
    "* There's a more advanced set of modules that come to the rescue.\n",
    "  * <a href=\"https://pypi.org/project/numpy/\">numpy</a> is a more efficient way to store lists of numbers and offers many built-in math functions.\n",
    "  * <a href=\"https://pypi.org/project/pandas/\">pandas</a> is a package that creates a <font color='blue' face=\"Courier New\" size=\"+1\">dataframe</font> that is similar to a SQL table but in memory."
   ]
  },
  {
   "cell_type": "code",
   "execution_count": null,
   "metadata": {
    "id": "k5_Gv6x_pAzB"
   },
   "outputs": [],
   "source": [
    "! pip install numpy\n",
    "! pip install pandas"
   ]
  },
  {
   "cell_type": "markdown",
   "metadata": {
    "id": "jnAlMWGwy0OX"
   },
   "source": [
    "* We can take the complex <font color='blue' face=\"Courier New\" size=\"+1\">list</font> of <font color='blue'>dictionaries</font> and turn it into a simpler <font color='blue'>pandas</font> <font color='blue' face=\"Courier New\" size=\"+1\">dataframe</font>."
   ]
  },
  {
   "cell_type": "code",
   "execution_count": 64,
   "metadata": {
    "id": "wcnqjvlupA2O"
   },
   "outputs": [
    {
     "name": "stdout",
     "output_type": "stream",
     "text": [
      "              team   player  goals\n",
      "0        Leicester    Vardy     24\n",
      "1  Manchester City   Aguero     22\n",
      "2          Arsenal  Sanchez     19\n"
     ]
    }
   ],
   "source": [
    "from pandas import DataFrame\n",
    "data = [{'team': 'Leicester', 'player': 'Vardy', 'goals': 24}\n",
    "        ,{'team': 'Manchester City', 'player': 'Aguero', 'goals': 22}\n",
    "        ,{'team': 'Arsenal', 'player': 'Sanchez', 'goals': 19}]\n",
    "football = DataFrame(data)\n",
    "print(football)"
   ]
  },
  {
   "cell_type": "code",
   "execution_count": 66,
   "metadata": {},
   "outputs": [
    {
     "name": "stdout",
     "output_type": "stream",
     "text": [
      "              team   player  goals\n",
      "0        Leicester    Vardy     24\n",
      "1  Manchester City   Aguero     22\n",
      "2          Arsenal  Sanchez     19\n"
     ]
    }
   ],
   "source": [
    "from pandas import DataFrame\n",
    "data = [{'team': 'Leicester', 'player': 'Vardy', 'goals': 24}\n",
    "        ,{'team': 'Manchester City', 'player': 'Aguero', 'goals': 22}\n",
    "        ,{'team': 'Arsenal', 'player': 'Sanchez', 'goals': 19}]\n",
    "team = DataFrame(data)\n",
    "print(team)"
   ]
  },
  {
   "cell_type": "code",
   "execution_count": 69,
   "metadata": {},
   "outputs": [
    {
     "name": "stdout",
     "output_type": "stream",
     "text": [
      "Leicester\n",
      "Vardy\n",
      "24\n"
     ]
    }
   ],
   "source": [
    "for i in team.loc[0]:\n",
    "    print(i)"
   ]
  },
  {
   "cell_type": "code",
   "execution_count": 72,
   "metadata": {},
   "outputs": [
    {
     "data": {
      "text/html": [
       "<div>\n",
       "<style scoped>\n",
       "    .dataframe tbody tr th:only-of-type {\n",
       "        vertical-align: middle;\n",
       "    }\n",
       "\n",
       "    .dataframe tbody tr th {\n",
       "        vertical-align: top;\n",
       "    }\n",
       "\n",
       "    .dataframe thead th {\n",
       "        text-align: right;\n",
       "    }\n",
       "</style>\n",
       "<table border=\"1\" class=\"dataframe\">\n",
       "  <thead>\n",
       "    <tr style=\"text-align: right;\">\n",
       "      <th></th>\n",
       "      <th>team</th>\n",
       "      <th>player</th>\n",
       "      <th>goals</th>\n",
       "    </tr>\n",
       "  </thead>\n",
       "  <tbody>\n",
       "    <tr>\n",
       "      <th>0</th>\n",
       "      <td>Leicester</td>\n",
       "      <td>Vardy</td>\n",
       "      <td>24</td>\n",
       "    </tr>\n",
       "    <tr>\n",
       "      <th>1</th>\n",
       "      <td>Manchester City</td>\n",
       "      <td>Aguero</td>\n",
       "      <td>22</td>\n",
       "    </tr>\n",
       "  </tbody>\n",
       "</table>\n",
       "</div>"
      ],
      "text/plain": [
       "              team  player  goals\n",
       "0        Leicester   Vardy     24\n",
       "1  Manchester City  Aguero     22"
      ]
     },
     "metadata": {},
     "output_type": "display_data"
    }
   ],
   "source": [
    "display(team.iloc[0:2])"
   ]
  },
  {
   "cell_type": "code",
   "execution_count": 75,
   "metadata": {},
   "outputs": [
    {
     "data": {
      "text/html": [
       "<div>\n",
       "<style scoped>\n",
       "    .dataframe tbody tr th:only-of-type {\n",
       "        vertical-align: middle;\n",
       "    }\n",
       "\n",
       "    .dataframe tbody tr th {\n",
       "        vertical-align: top;\n",
       "    }\n",
       "\n",
       "    .dataframe thead th {\n",
       "        text-align: right;\n",
       "    }\n",
       "</style>\n",
       "<table border=\"1\" class=\"dataframe\">\n",
       "  <thead>\n",
       "    <tr style=\"text-align: right;\">\n",
       "      <th></th>\n",
       "      <th>team</th>\n",
       "      <th>player</th>\n",
       "      <th>goals</th>\n",
       "    </tr>\n",
       "  </thead>\n",
       "  <tbody>\n",
       "    <tr>\n",
       "      <th>1</th>\n",
       "      <td>Manchester City</td>\n",
       "      <td>Aguero</td>\n",
       "      <td>22</td>\n",
       "    </tr>\n",
       "    <tr>\n",
       "      <th>2</th>\n",
       "      <td>Arsenal</td>\n",
       "      <td>Sanchez</td>\n",
       "      <td>19</td>\n",
       "    </tr>\n",
       "  </tbody>\n",
       "</table>\n",
       "</div>"
      ],
      "text/plain": [
       "              team   player  goals\n",
       "1  Manchester City   Aguero     22\n",
       "2          Arsenal  Sanchez     19"
      ]
     },
     "metadata": {},
     "output_type": "display_data"
    }
   ],
   "source": [
    "display(team.iloc[-2:])"
   ]
  },
  {
   "cell_type": "code",
   "execution_count": 82,
   "metadata": {},
   "outputs": [
    {
     "data": {
      "text/html": [
       "<div>\n",
       "<style scoped>\n",
       "    .dataframe tbody tr th:only-of-type {\n",
       "        vertical-align: middle;\n",
       "    }\n",
       "\n",
       "    .dataframe tbody tr th {\n",
       "        vertical-align: top;\n",
       "    }\n",
       "\n",
       "    .dataframe thead th {\n",
       "        text-align: right;\n",
       "    }\n",
       "</style>\n",
       "<table border=\"1\" class=\"dataframe\">\n",
       "  <thead>\n",
       "    <tr style=\"text-align: right;\">\n",
       "      <th></th>\n",
       "      <th>team</th>\n",
       "      <th>player</th>\n",
       "    </tr>\n",
       "  </thead>\n",
       "  <tbody>\n",
       "    <tr>\n",
       "      <th>0</th>\n",
       "      <td>Leicester</td>\n",
       "      <td>Vardy</td>\n",
       "    </tr>\n",
       "    <tr>\n",
       "      <th>1</th>\n",
       "      <td>Manchester City</td>\n",
       "      <td>Aguero</td>\n",
       "    </tr>\n",
       "    <tr>\n",
       "      <th>2</th>\n",
       "      <td>Arsenal</td>\n",
       "      <td>Sanchez</td>\n",
       "    </tr>\n",
       "  </tbody>\n",
       "</table>\n",
       "</div>"
      ],
      "text/plain": [
       "              team   player\n",
       "0        Leicester    Vardy\n",
       "1  Manchester City   Aguero\n",
       "2          Arsenal  Sanchez"
      ]
     },
     "metadata": {},
     "output_type": "display_data"
    }
   ],
   "source": [
    "display(team.iloc[:, [0,1]])"
   ]
  },
  {
   "cell_type": "code",
   "execution_count": 83,
   "metadata": {},
   "outputs": [
    {
     "data": {
      "text/html": [
       "<div>\n",
       "<style scoped>\n",
       "    .dataframe tbody tr th:only-of-type {\n",
       "        vertical-align: middle;\n",
       "    }\n",
       "\n",
       "    .dataframe tbody tr th {\n",
       "        vertical-align: top;\n",
       "    }\n",
       "\n",
       "    .dataframe thead th {\n",
       "        text-align: right;\n",
       "    }\n",
       "</style>\n",
       "<table border=\"1\" class=\"dataframe\">\n",
       "  <thead>\n",
       "    <tr style=\"text-align: right;\">\n",
       "      <th></th>\n",
       "      <th>team</th>\n",
       "    </tr>\n",
       "  </thead>\n",
       "  <tbody>\n",
       "    <tr>\n",
       "      <th>0</th>\n",
       "      <td>Leicester</td>\n",
       "    </tr>\n",
       "    <tr>\n",
       "      <th>1</th>\n",
       "      <td>Manchester City</td>\n",
       "    </tr>\n",
       "    <tr>\n",
       "      <th>2</th>\n",
       "      <td>Arsenal</td>\n",
       "    </tr>\n",
       "  </tbody>\n",
       "</table>\n",
       "</div>"
      ],
      "text/plain": [
       "              team\n",
       "0        Leicester\n",
       "1  Manchester City\n",
       "2          Arsenal"
      ]
     },
     "metadata": {},
     "output_type": "display_data"
    }
   ],
   "source": [
    "display(team.iloc[:, 0:1])"
   ]
  },
  {
   "cell_type": "markdown",
   "metadata": {
    "id": "DzeAxl7Zy_Ij"
   },
   "source": [
    "* When working in Jupyter, we can use the <font color='blue' face=\"Courier New\" size=\"+1\">display</font> function instead of <font color='blue' face=\"Courier New\" size=\"+1\">print</font> for an easier to read output."
   ]
  },
  {
   "cell_type": "code",
   "execution_count": null,
   "metadata": {
    "id": "P0q7vUPvpA5T"
   },
   "outputs": [],
   "source": [
    "display(football)"
   ]
  },
  {
   "cell_type": "markdown",
   "metadata": {
    "id": "wyMwnKeN11ne"
   },
   "source": [
    "* We can use the <font color='blue' face=\"Courier New\" size=\"+1\">loc</font> and <font color='blue' face=\"Courier New\" size=\"+1\">iloc</font> methods to slice the dataframe just like a collection."
   ]
  },
  {
   "cell_type": "code",
   "execution_count": 71,
   "metadata": {
    "id": "GWifngJO1xvb"
   },
   "outputs": [
    {
     "name": "stdout",
     "output_type": "stream",
     "text": [
      "\n",
      "display the first row\n"
     ]
    },
    {
     "data": {
      "text/plain": [
       "team      Leicester\n",
       "player        Vardy\n",
       "goals            24\n",
       "Name: 0, dtype: object"
      ]
     },
     "metadata": {},
     "output_type": "display_data"
    },
    {
     "name": "stdout",
     "output_type": "stream",
     "text": [
      "\n",
      "display the first row\n"
     ]
    },
    {
     "data": {
      "text/plain": [
       "team      Leicester\n",
       "player        Vardy\n",
       "goals            24\n",
       "Name: 0, dtype: object"
      ]
     },
     "metadata": {},
     "output_type": "display_data"
    },
    {
     "name": "stdout",
     "output_type": "stream",
     "text": [
      "\n",
      "display the slice of the first and second row (rows 0 and up to but not including 2)\n"
     ]
    },
    {
     "data": {
      "text/html": [
       "<div>\n",
       "<style scoped>\n",
       "    .dataframe tbody tr th:only-of-type {\n",
       "        vertical-align: middle;\n",
       "    }\n",
       "\n",
       "    .dataframe tbody tr th {\n",
       "        vertical-align: top;\n",
       "    }\n",
       "\n",
       "    .dataframe thead th {\n",
       "        text-align: right;\n",
       "    }\n",
       "</style>\n",
       "<table border=\"1\" class=\"dataframe\">\n",
       "  <thead>\n",
       "    <tr style=\"text-align: right;\">\n",
       "      <th></th>\n",
       "      <th>team</th>\n",
       "      <th>player</th>\n",
       "      <th>goals</th>\n",
       "    </tr>\n",
       "  </thead>\n",
       "  <tbody>\n",
       "    <tr>\n",
       "      <th>0</th>\n",
       "      <td>Leicester</td>\n",
       "      <td>Vardy</td>\n",
       "      <td>24</td>\n",
       "    </tr>\n",
       "    <tr>\n",
       "      <th>1</th>\n",
       "      <td>Manchester City</td>\n",
       "      <td>Aguero</td>\n",
       "      <td>22</td>\n",
       "    </tr>\n",
       "  </tbody>\n",
       "</table>\n",
       "</div>"
      ],
      "text/plain": [
       "              team  player  goals\n",
       "0        Leicester   Vardy     24\n",
       "1  Manchester City  Aguero     22"
      ]
     },
     "metadata": {},
     "output_type": "display_data"
    },
    {
     "name": "stdout",
     "output_type": "stream",
     "text": [
      "\n",
      "display from the second to last row to the end\n"
     ]
    },
    {
     "data": {
      "text/html": [
       "<div>\n",
       "<style scoped>\n",
       "    .dataframe tbody tr th:only-of-type {\n",
       "        vertical-align: middle;\n",
       "    }\n",
       "\n",
       "    .dataframe tbody tr th {\n",
       "        vertical-align: top;\n",
       "    }\n",
       "\n",
       "    .dataframe thead th {\n",
       "        text-align: right;\n",
       "    }\n",
       "</style>\n",
       "<table border=\"1\" class=\"dataframe\">\n",
       "  <thead>\n",
       "    <tr style=\"text-align: right;\">\n",
       "      <th></th>\n",
       "      <th>team</th>\n",
       "      <th>player</th>\n",
       "      <th>goals</th>\n",
       "    </tr>\n",
       "  </thead>\n",
       "  <tbody>\n",
       "    <tr>\n",
       "      <th>1</th>\n",
       "      <td>Manchester City</td>\n",
       "      <td>Aguero</td>\n",
       "      <td>22</td>\n",
       "    </tr>\n",
       "    <tr>\n",
       "      <th>2</th>\n",
       "      <td>Arsenal</td>\n",
       "      <td>Sanchez</td>\n",
       "      <td>19</td>\n",
       "    </tr>\n",
       "  </tbody>\n",
       "</table>\n",
       "</div>"
      ],
      "text/plain": [
       "              team   player  goals\n",
       "1  Manchester City   Aguero     22\n",
       "2          Arsenal  Sanchez     19"
      ]
     },
     "metadata": {},
     "output_type": "display_data"
    },
    {
     "name": "stdout",
     "output_type": "stream",
     "text": [
      "\n",
      "display from the second to last row to the end, but only columns 0 and up to but not including 2\n"
     ]
    },
    {
     "data": {
      "text/html": [
       "<div>\n",
       "<style scoped>\n",
       "    .dataframe tbody tr th:only-of-type {\n",
       "        vertical-align: middle;\n",
       "    }\n",
       "\n",
       "    .dataframe tbody tr th {\n",
       "        vertical-align: top;\n",
       "    }\n",
       "\n",
       "    .dataframe thead th {\n",
       "        text-align: right;\n",
       "    }\n",
       "</style>\n",
       "<table border=\"1\" class=\"dataframe\">\n",
       "  <thead>\n",
       "    <tr style=\"text-align: right;\">\n",
       "      <th></th>\n",
       "      <th>team</th>\n",
       "      <th>player</th>\n",
       "    </tr>\n",
       "  </thead>\n",
       "  <tbody>\n",
       "    <tr>\n",
       "      <th>1</th>\n",
       "      <td>Manchester City</td>\n",
       "      <td>Aguero</td>\n",
       "    </tr>\n",
       "    <tr>\n",
       "      <th>2</th>\n",
       "      <td>Arsenal</td>\n",
       "      <td>Sanchez</td>\n",
       "    </tr>\n",
       "  </tbody>\n",
       "</table>\n",
       "</div>"
      ],
      "text/plain": [
       "              team   player\n",
       "1  Manchester City   Aguero\n",
       "2          Arsenal  Sanchez"
      ]
     },
     "metadata": {},
     "output_type": "display_data"
    },
    {
     "name": "stdout",
     "output_type": "stream",
     "text": [
      "\n",
      "display all rows, but only columns 0 and up to but not including 2\n"
     ]
    },
    {
     "data": {
      "text/html": [
       "<div>\n",
       "<style scoped>\n",
       "    .dataframe tbody tr th:only-of-type {\n",
       "        vertical-align: middle;\n",
       "    }\n",
       "\n",
       "    .dataframe tbody tr th {\n",
       "        vertical-align: top;\n",
       "    }\n",
       "\n",
       "    .dataframe thead th {\n",
       "        text-align: right;\n",
       "    }\n",
       "</style>\n",
       "<table border=\"1\" class=\"dataframe\">\n",
       "  <thead>\n",
       "    <tr style=\"text-align: right;\">\n",
       "      <th></th>\n",
       "      <th>team</th>\n",
       "      <th>player</th>\n",
       "    </tr>\n",
       "  </thead>\n",
       "  <tbody>\n",
       "    <tr>\n",
       "      <th>0</th>\n",
       "      <td>Leicester</td>\n",
       "      <td>Vardy</td>\n",
       "    </tr>\n",
       "    <tr>\n",
       "      <th>1</th>\n",
       "      <td>Manchester City</td>\n",
       "      <td>Aguero</td>\n",
       "    </tr>\n",
       "    <tr>\n",
       "      <th>2</th>\n",
       "      <td>Arsenal</td>\n",
       "      <td>Sanchez</td>\n",
       "    </tr>\n",
       "  </tbody>\n",
       "</table>\n",
       "</div>"
      ],
      "text/plain": [
       "              team   player\n",
       "0        Leicester    Vardy\n",
       "1  Manchester City   Aguero\n",
       "2          Arsenal  Sanchez"
      ]
     },
     "metadata": {},
     "output_type": "display_data"
    },
    {
     "name": "stdout",
     "output_type": "stream",
     "text": [
      "\n",
      "display all rows, but only columns 0 and 2, note the square brackets to supply a list of values not a range\n"
     ]
    },
    {
     "data": {
      "text/html": [
       "<div>\n",
       "<style scoped>\n",
       "    .dataframe tbody tr th:only-of-type {\n",
       "        vertical-align: middle;\n",
       "    }\n",
       "\n",
       "    .dataframe tbody tr th {\n",
       "        vertical-align: top;\n",
       "    }\n",
       "\n",
       "    .dataframe thead th {\n",
       "        text-align: right;\n",
       "    }\n",
       "</style>\n",
       "<table border=\"1\" class=\"dataframe\">\n",
       "  <thead>\n",
       "    <tr style=\"text-align: right;\">\n",
       "      <th></th>\n",
       "      <th>team</th>\n",
       "      <th>goals</th>\n",
       "    </tr>\n",
       "  </thead>\n",
       "  <tbody>\n",
       "    <tr>\n",
       "      <th>0</th>\n",
       "      <td>Leicester</td>\n",
       "      <td>24</td>\n",
       "    </tr>\n",
       "    <tr>\n",
       "      <th>1</th>\n",
       "      <td>Manchester City</td>\n",
       "      <td>22</td>\n",
       "    </tr>\n",
       "    <tr>\n",
       "      <th>2</th>\n",
       "      <td>Arsenal</td>\n",
       "      <td>19</td>\n",
       "    </tr>\n",
       "  </tbody>\n",
       "</table>\n",
       "</div>"
      ],
      "text/plain": [
       "              team  goals\n",
       "0        Leicester     24\n",
       "1  Manchester City     22\n",
       "2          Arsenal     19"
      ]
     },
     "metadata": {},
     "output_type": "display_data"
    }
   ],
   "source": [
    "print(f\"\\ndisplay the first row\")\n",
    "display(football.loc[0])\n",
    "\n",
    "print(f\"\\ndisplay the first row\")\n",
    "display(football.iloc[0])\n",
    "\n",
    "print(f\"\\ndisplay the slice of the first and second row (rows 0 and up to but not including 2)\")\n",
    "display(football.iloc[0:2])\n",
    "\n",
    "print(f\"\\ndisplay from the second to last row to the end\")\n",
    "display(football.iloc[-2:])\n",
    "\n",
    "print(f\"\\ndisplay from the second to last row to the end, but only columns 0 and up to but not including 2\")\n",
    "display(football.iloc[-2:, 0:2])\n",
    "\n",
    "print(f\"\\ndisplay all rows, but only columns 0 and up to but not including 2\")\n",
    "display(football.iloc[ :, 0:2])\n",
    "\n",
    "print(f\"\\ndisplay all rows, but only columns 0 and 2, note the square brackets to supply a list of values not a range\")\n",
    "display(football.iloc[ :, [0, 2]])\n"
   ]
  },
  {
   "cell_type": "markdown",
   "metadata": {
    "id": "gQScAM2o0c6t"
   },
   "source": [
    "* Or we can give it indexes similar to a primary key in a SQL table.\n",
    "* Then <font color='blue' face=\"Courier New\" size=\"+1\">iloc</font> means use the numerical position, but <font color='blue' face=\"Courier New\" size=\"+1\">loc</font> means look up the row by its index, so it's similar to how a dictionary works."
   ]
  },
  {
   "cell_type": "code",
   "execution_count": 88,
   "metadata": {
    "id": "Tw4vumw81R8X"
   },
   "outputs": [
    {
     "data": {
      "text/html": [
       "<div>\n",
       "<style scoped>\n",
       "    .dataframe tbody tr th:only-of-type {\n",
       "        vertical-align: middle;\n",
       "    }\n",
       "\n",
       "    .dataframe tbody tr th {\n",
       "        vertical-align: top;\n",
       "    }\n",
       "\n",
       "    .dataframe thead th {\n",
       "        text-align: right;\n",
       "    }\n",
       "</style>\n",
       "<table border=\"1\" class=\"dataframe\">\n",
       "  <thead>\n",
       "    <tr style=\"text-align: right;\">\n",
       "      <th></th>\n",
       "      <th>player</th>\n",
       "      <th>goals</th>\n",
       "    </tr>\n",
       "    <tr>\n",
       "      <th>team</th>\n",
       "      <th></th>\n",
       "      <th></th>\n",
       "    </tr>\n",
       "  </thead>\n",
       "  <tbody>\n",
       "    <tr>\n",
       "      <th>Leicester</th>\n",
       "      <td>Vardy</td>\n",
       "      <td>24</td>\n",
       "    </tr>\n",
       "    <tr>\n",
       "      <th>Manchester City</th>\n",
       "      <td>Aguero</td>\n",
       "      <td>22</td>\n",
       "    </tr>\n",
       "    <tr>\n",
       "      <th>Arsenal</th>\n",
       "      <td>Sanchez</td>\n",
       "      <td>19</td>\n",
       "    </tr>\n",
       "  </tbody>\n",
       "</table>\n",
       "</div>"
      ],
      "text/plain": [
       "                  player  goals\n",
       "team                           \n",
       "Leicester          Vardy     24\n",
       "Manchester City   Aguero     22\n",
       "Arsenal          Sanchez     19"
      ]
     },
     "metadata": {},
     "output_type": "display_data"
    }
   ],
   "source": [
    "football2 = football.set_index('team')\n",
    "display(football2)"
   ]
  },
  {
   "cell_type": "code",
   "execution_count": 89,
   "metadata": {},
   "outputs": [
    {
     "data": {
      "text/plain": [
       "player    Sanchez\n",
       "goals          19\n",
       "Name: Arsenal, dtype: object"
      ]
     },
     "metadata": {},
     "output_type": "display_data"
    }
   ],
   "source": [
    "display(football2.loc['Arsenal'])"
   ]
  },
  {
   "cell_type": "code",
   "execution_count": 94,
   "metadata": {},
   "outputs": [
    {
     "data": {
      "text/plain": [
       "player    Vardy\n",
       "goals        24\n",
       "Name: Leicester, dtype: object"
      ]
     },
     "metadata": {},
     "output_type": "display_data"
    }
   ],
   "source": [
    "#display(football2.loc[0]) --error\n",
    "display(football2.iloc[0])"
   ]
  },
  {
   "cell_type": "code",
   "execution_count": 91,
   "metadata": {},
   "outputs": [
    {
     "data": {
      "text/plain": [
       "player    Vardy\n",
       "goals        24\n",
       "Name: Leicester, dtype: object"
      ]
     },
     "metadata": {},
     "output_type": "display_data"
    }
   ],
   "source": [
    "display(football2.iloc[0])"
   ]
  },
  {
   "cell_type": "code",
   "execution_count": 95,
   "metadata": {},
   "outputs": [
    {
     "data": {
      "text/plain": [
       "19"
      ]
     },
     "metadata": {},
     "output_type": "display_data"
    }
   ],
   "source": [
    "display(football2.loc['Arsenal', 'goals'])"
   ]
  },
  {
   "cell_type": "code",
   "execution_count": 97,
   "metadata": {},
   "outputs": [
    {
     "data": {
      "text/plain": [
       "goals          19\n",
       "player    Sanchez\n",
       "Name: Arsenal, dtype: object"
      ]
     },
     "metadata": {},
     "output_type": "display_data"
    }
   ],
   "source": [
    "display(football2.loc['Arsenal', [ 'goals', 'player']])"
   ]
  },
  {
   "cell_type": "code",
   "execution_count": 105,
   "metadata": {},
   "outputs": [
    {
     "data": {
      "text/html": [
       "<div>\n",
       "<style scoped>\n",
       "    .dataframe tbody tr th:only-of-type {\n",
       "        vertical-align: middle;\n",
       "    }\n",
       "\n",
       "    .dataframe tbody tr th {\n",
       "        vertical-align: top;\n",
       "    }\n",
       "\n",
       "    .dataframe thead th {\n",
       "        text-align: right;\n",
       "    }\n",
       "</style>\n",
       "<table border=\"1\" class=\"dataframe\">\n",
       "  <thead>\n",
       "    <tr style=\"text-align: right;\">\n",
       "      <th></th>\n",
       "      <th>goals</th>\n",
       "      <th>player</th>\n",
       "    </tr>\n",
       "    <tr>\n",
       "      <th>team</th>\n",
       "      <th></th>\n",
       "      <th></th>\n",
       "    </tr>\n",
       "  </thead>\n",
       "  <tbody>\n",
       "    <tr>\n",
       "      <th>Leicester</th>\n",
       "      <td>24</td>\n",
       "      <td>Vardy</td>\n",
       "    </tr>\n",
       "    <tr>\n",
       "      <th>Manchester City</th>\n",
       "      <td>22</td>\n",
       "      <td>Aguero</td>\n",
       "    </tr>\n",
       "    <tr>\n",
       "      <th>Arsenal</th>\n",
       "      <td>19</td>\n",
       "      <td>Sanchez</td>\n",
       "    </tr>\n",
       "  </tbody>\n",
       "</table>\n",
       "</div>"
      ],
      "text/plain": [
       "                 goals   player\n",
       "team                           \n",
       "Leicester           24    Vardy\n",
       "Manchester City     22   Aguero\n",
       "Arsenal             19  Sanchez"
      ]
     },
     "metadata": {},
     "output_type": "display_data"
    }
   ],
   "source": [
    "display(football2.loc[:, [ 'goals', 'player']])"
   ]
  },
  {
   "cell_type": "code",
   "execution_count": 104,
   "metadata": {},
   "outputs": [
    {
     "data": {
      "text/html": [
       "<div>\n",
       "<style scoped>\n",
       "    .dataframe tbody tr th:only-of-type {\n",
       "        vertical-align: middle;\n",
       "    }\n",
       "\n",
       "    .dataframe tbody tr th {\n",
       "        vertical-align: top;\n",
       "    }\n",
       "\n",
       "    .dataframe thead th {\n",
       "        text-align: right;\n",
       "    }\n",
       "</style>\n",
       "<table border=\"1\" class=\"dataframe\">\n",
       "  <thead>\n",
       "    <tr style=\"text-align: right;\">\n",
       "      <th></th>\n",
       "      <th>player</th>\n",
       "    </tr>\n",
       "    <tr>\n",
       "      <th>team</th>\n",
       "      <th></th>\n",
       "    </tr>\n",
       "  </thead>\n",
       "  <tbody>\n",
       "    <tr>\n",
       "      <th>Leicester</th>\n",
       "      <td>Vardy</td>\n",
       "    </tr>\n",
       "    <tr>\n",
       "      <th>Manchester City</th>\n",
       "      <td>Aguero</td>\n",
       "    </tr>\n",
       "  </tbody>\n",
       "</table>\n",
       "</div>"
      ],
      "text/plain": [
       "                 player\n",
       "team                   \n",
       "Leicester         Vardy\n",
       "Manchester City  Aguero"
      ]
     },
     "metadata": {},
     "output_type": "display_data"
    }
   ],
   "source": [
    "display(football2.iloc[0:2].loc[:, ['player']])"
   ]
  },
  {
   "cell_type": "code",
   "execution_count": 85,
   "metadata": {
    "id": "Mr22C5_XpA8X"
   },
   "outputs": [
    {
     "name": "stdout",
     "output_type": "stream",
     "text": [
      "get the row for index Arsenal, all columns\n"
     ]
    },
    {
     "data": {
      "text/plain": [
       "player    Sanchez\n",
       "goals          19\n",
       "Name: Arsenal, dtype: object"
      ]
     },
     "metadata": {},
     "output_type": "display_data"
    },
    {
     "name": "stdout",
     "output_type": "stream",
     "text": [
      "\n",
      "\n",
      "get the first row, all columns\n"
     ]
    },
    {
     "data": {
      "text/plain": [
       "team      Leicester\n",
       "player        Vardy\n",
       "goals            24\n",
       "Name: 0, dtype: object"
      ]
     },
     "metadata": {},
     "output_type": "display_data"
    },
    {
     "name": "stdout",
     "output_type": "stream",
     "text": [
      "\n",
      "\n",
      "get the row for arsenal and just the goals column\n"
     ]
    },
    {
     "data": {
      "text/plain": [
       "19"
      ]
     },
     "metadata": {},
     "output_type": "display_data"
    },
    {
     "name": "stdout",
     "output_type": "stream",
     "text": [
      "\n",
      "\n",
      "get the row for arsenal and just the goals and player columns\n"
     ]
    },
    {
     "data": {
      "text/plain": [
       "goals          19\n",
       "player    Sanchez\n",
       "Name: Arsenal, dtype: object"
      ]
     },
     "metadata": {},
     "output_type": "display_data"
    },
    {
     "name": "stdout",
     "output_type": "stream",
     "text": [
      "\n",
      "\n",
      "get the first and second rows and just the goals and player columns\n"
     ]
    },
    {
     "data": {
      "text/html": [
       "<div>\n",
       "<style scoped>\n",
       "    .dataframe tbody tr th:only-of-type {\n",
       "        vertical-align: middle;\n",
       "    }\n",
       "\n",
       "    .dataframe tbody tr th {\n",
       "        vertical-align: top;\n",
       "    }\n",
       "\n",
       "    .dataframe thead th {\n",
       "        text-align: right;\n",
       "    }\n",
       "</style>\n",
       "<table border=\"1\" class=\"dataframe\">\n",
       "  <thead>\n",
       "    <tr style=\"text-align: right;\">\n",
       "      <th></th>\n",
       "      <th>goals</th>\n",
       "      <th>player</th>\n",
       "    </tr>\n",
       "    <tr>\n",
       "      <th>team</th>\n",
       "      <th></th>\n",
       "      <th></th>\n",
       "    </tr>\n",
       "  </thead>\n",
       "  <tbody>\n",
       "    <tr>\n",
       "      <th>Leicester</th>\n",
       "      <td>24</td>\n",
       "      <td>Vardy</td>\n",
       "    </tr>\n",
       "    <tr>\n",
       "      <th>Manchester City</th>\n",
       "      <td>22</td>\n",
       "      <td>Aguero</td>\n",
       "    </tr>\n",
       "  </tbody>\n",
       "</table>\n",
       "</div>"
      ],
      "text/plain": [
       "                 goals  player\n",
       "team                          \n",
       "Leicester           24   Vardy\n",
       "Manchester City     22  Aguero"
      ]
     },
     "metadata": {},
     "output_type": "display_data"
    },
    {
     "name": "stdout",
     "output_type": "stream",
     "text": [
      "\n"
     ]
    }
   ],
   "source": [
    "print('get the row for index Arsenal, all columns')\n",
    "display(football2.loc['Arsenal'])\n",
    "print()\n",
    "print(f'\\nget the first row, all columns')\n",
    "display(football.iloc[0])\n",
    "print()\n",
    "print(f'\\nget the row for arsenal and just the goals column')\n",
    "display(football2.loc['Arsenal', 'goals'])\n",
    "print()\n",
    "print(f'\\nget the row for arsenal and just the goals and player columns')\n",
    "display(football2.loc['Arsenal', ['goals', 'player']])\n",
    "print()\n",
    "print(f'\\nget the first and second rows and just the goals and player columns')\n",
    "display(football2.iloc[0:2].loc[:, ['goals', 'player']])\n",
    "print()\n"
   ]
  },
  {
   "cell_type": "code",
   "execution_count": null,
   "metadata": {},
   "outputs": [],
   "source": []
  },
  {
   "cell_type": "markdown",
   "metadata": {
    "id": "T83yayiNRodx"
   },
   "source": [
    "* We can also do operations like <font color='blue'>filter</font> and <font color='blue'>aggregations</font>."
   ]
  },
  {
   "cell_type": "code",
   "execution_count": 106,
   "metadata": {
    "id": "b9-zXje6HkC6"
   },
   "outputs": [
    {
     "data": {
      "text/html": [
       "<div>\n",
       "<style scoped>\n",
       "    .dataframe tbody tr th:only-of-type {\n",
       "        vertical-align: middle;\n",
       "    }\n",
       "\n",
       "    .dataframe tbody tr th {\n",
       "        vertical-align: top;\n",
       "    }\n",
       "\n",
       "    .dataframe thead th {\n",
       "        text-align: right;\n",
       "    }\n",
       "</style>\n",
       "<table border=\"1\" class=\"dataframe\">\n",
       "  <thead>\n",
       "    <tr style=\"text-align: right;\">\n",
       "      <th></th>\n",
       "      <th>team</th>\n",
       "      <th>player</th>\n",
       "      <th>goals</th>\n",
       "    </tr>\n",
       "  </thead>\n",
       "  <tbody>\n",
       "    <tr>\n",
       "      <th>0</th>\n",
       "      <td>Leicester</td>\n",
       "      <td>Vardy</td>\n",
       "      <td>24</td>\n",
       "    </tr>\n",
       "    <tr>\n",
       "      <th>1</th>\n",
       "      <td>Manchester City</td>\n",
       "      <td>Aguero</td>\n",
       "      <td>22</td>\n",
       "    </tr>\n",
       "  </tbody>\n",
       "</table>\n",
       "</div>"
      ],
      "text/plain": [
       "              team  player  goals\n",
       "0        Leicester   Vardy     24\n",
       "1  Manchester City  Aguero     22"
      ]
     },
     "metadata": {},
     "output_type": "display_data"
    },
    {
     "name": "stdout",
     "output_type": "stream",
     "text": [
      "21.666666666666668\n"
     ]
    }
   ],
   "source": [
    "filtered_football = football[football['goals'] > 20]\n",
    "display(filtered_football)\n",
    "\n",
    "average_goals = football['goals'].mean()\n",
    "print(average_goals)\n"
   ]
  },
  {
   "cell_type": "markdown",
   "metadata": {
    "id": "JuK_FjLfTRSb"
   },
   "source": [
    "* For the most part, we use pandas to read data from common file formats such as CSV or JSON.\n",
    "* Once it is read into memory as a DataFrame, we can manipulate it to <font color='blue'>filter</font>, <font color='blue'>sort</font>, <font color='blue'>aggregate</font>, and other common operations.\n",
    "* Then, we can either save it to a new file or display it as a chart.\n",
    "* This is what makes Python so popular in the Data Science, Data Engineering, Machine Learning, and Artificial Intelligence fields."
   ]
  },
  {
   "cell_type": "code",
   "execution_count": 107,
   "metadata": {
    "id": "0WqCvzE_XiWn"
   },
   "outputs": [
    {
     "data": {
      "text/html": [
       "<div>\n",
       "<style scoped>\n",
       "    .dataframe tbody tr th:only-of-type {\n",
       "        vertical-align: middle;\n",
       "    }\n",
       "\n",
       "    .dataframe tbody tr th {\n",
       "        vertical-align: top;\n",
       "    }\n",
       "\n",
       "    .dataframe thead th {\n",
       "        text-align: right;\n",
       "    }\n",
       "</style>\n",
       "<table border=\"1\" class=\"dataframe\">\n",
       "  <thead>\n",
       "    <tr style=\"text-align: right;\">\n",
       "      <th></th>\n",
       "      <th>ProductID</th>\n",
       "      <th>ProductName</th>\n",
       "      <th>SupplierID</th>\n",
       "      <th>CategoryID</th>\n",
       "      <th>QuantityPerUnit</th>\n",
       "      <th>UnitPrice</th>\n",
       "      <th>UnitsInStock</th>\n",
       "      <th>UnitsOnOrder</th>\n",
       "      <th>ReorderLevel</th>\n",
       "      <th>Discontinued</th>\n",
       "    </tr>\n",
       "  </thead>\n",
       "  <tbody>\n",
       "    <tr>\n",
       "      <th>0</th>\n",
       "      <td>1</td>\n",
       "      <td>Chai</td>\n",
       "      <td>8</td>\n",
       "      <td>1</td>\n",
       "      <td>10 boxes x 30 bags</td>\n",
       "      <td>18.00</td>\n",
       "      <td>39</td>\n",
       "      <td>0</td>\n",
       "      <td>10</td>\n",
       "      <td>1</td>\n",
       "    </tr>\n",
       "    <tr>\n",
       "      <th>1</th>\n",
       "      <td>2</td>\n",
       "      <td>Chang</td>\n",
       "      <td>1</td>\n",
       "      <td>1</td>\n",
       "      <td>24 - 12 oz bottles</td>\n",
       "      <td>19.00</td>\n",
       "      <td>17</td>\n",
       "      <td>40</td>\n",
       "      <td>25</td>\n",
       "      <td>1</td>\n",
       "    </tr>\n",
       "    <tr>\n",
       "      <th>2</th>\n",
       "      <td>3</td>\n",
       "      <td>Aniseed Syrup</td>\n",
       "      <td>1</td>\n",
       "      <td>2</td>\n",
       "      <td>12 - 550 ml bottles</td>\n",
       "      <td>10.00</td>\n",
       "      <td>13</td>\n",
       "      <td>70</td>\n",
       "      <td>25</td>\n",
       "      <td>0</td>\n",
       "    </tr>\n",
       "    <tr>\n",
       "      <th>3</th>\n",
       "      <td>4</td>\n",
       "      <td>Chef Anton's Cajun Seasoning</td>\n",
       "      <td>2</td>\n",
       "      <td>2</td>\n",
       "      <td>48 - 6 oz jars</td>\n",
       "      <td>22.00</td>\n",
       "      <td>53</td>\n",
       "      <td>0</td>\n",
       "      <td>0</td>\n",
       "      <td>0</td>\n",
       "    </tr>\n",
       "    <tr>\n",
       "      <th>4</th>\n",
       "      <td>5</td>\n",
       "      <td>Chef Anton's Gumbo Mix</td>\n",
       "      <td>2</td>\n",
       "      <td>2</td>\n",
       "      <td>36 boxes</td>\n",
       "      <td>21.35</td>\n",
       "      <td>0</td>\n",
       "      <td>0</td>\n",
       "      <td>0</td>\n",
       "      <td>1</td>\n",
       "    </tr>\n",
       "    <tr>\n",
       "      <th>...</th>\n",
       "      <td>...</td>\n",
       "      <td>...</td>\n",
       "      <td>...</td>\n",
       "      <td>...</td>\n",
       "      <td>...</td>\n",
       "      <td>...</td>\n",
       "      <td>...</td>\n",
       "      <td>...</td>\n",
       "      <td>...</td>\n",
       "      <td>...</td>\n",
       "    </tr>\n",
       "    <tr>\n",
       "      <th>72</th>\n",
       "      <td>73</td>\n",
       "      <td>Rod Kaviar</td>\n",
       "      <td>17</td>\n",
       "      <td>8</td>\n",
       "      <td>24 - 150 g jars</td>\n",
       "      <td>15.00</td>\n",
       "      <td>101</td>\n",
       "      <td>0</td>\n",
       "      <td>5</td>\n",
       "      <td>0</td>\n",
       "    </tr>\n",
       "    <tr>\n",
       "      <th>73</th>\n",
       "      <td>74</td>\n",
       "      <td>Longlife Tofu</td>\n",
       "      <td>4</td>\n",
       "      <td>7</td>\n",
       "      <td>5 kg pkg.</td>\n",
       "      <td>10.00</td>\n",
       "      <td>4</td>\n",
       "      <td>20</td>\n",
       "      <td>5</td>\n",
       "      <td>0</td>\n",
       "    </tr>\n",
       "    <tr>\n",
       "      <th>74</th>\n",
       "      <td>75</td>\n",
       "      <td>Rhonbrau Klosterbier</td>\n",
       "      <td>12</td>\n",
       "      <td>1</td>\n",
       "      <td>24 - 0.5 l bottles</td>\n",
       "      <td>7.75</td>\n",
       "      <td>125</td>\n",
       "      <td>0</td>\n",
       "      <td>25</td>\n",
       "      <td>0</td>\n",
       "    </tr>\n",
       "    <tr>\n",
       "      <th>75</th>\n",
       "      <td>76</td>\n",
       "      <td>Lakkalikoori</td>\n",
       "      <td>23</td>\n",
       "      <td>1</td>\n",
       "      <td>500 ml</td>\n",
       "      <td>18.00</td>\n",
       "      <td>57</td>\n",
       "      <td>0</td>\n",
       "      <td>20</td>\n",
       "      <td>0</td>\n",
       "    </tr>\n",
       "    <tr>\n",
       "      <th>76</th>\n",
       "      <td>77</td>\n",
       "      <td>Original Frankfurter grune Sosse</td>\n",
       "      <td>12</td>\n",
       "      <td>2</td>\n",
       "      <td>12 boxes</td>\n",
       "      <td>13.00</td>\n",
       "      <td>32</td>\n",
       "      <td>0</td>\n",
       "      <td>15</td>\n",
       "      <td>0</td>\n",
       "    </tr>\n",
       "  </tbody>\n",
       "</table>\n",
       "<p>77 rows × 10 columns</p>\n",
       "</div>"
      ],
      "text/plain": [
       "    ProductID                       ProductName  SupplierID  CategoryID  \\\n",
       "0           1                              Chai           8           1   \n",
       "1           2                             Chang           1           1   \n",
       "2           3                     Aniseed Syrup           1           2   \n",
       "3           4      Chef Anton's Cajun Seasoning           2           2   \n",
       "4           5            Chef Anton's Gumbo Mix           2           2   \n",
       "..        ...                               ...         ...         ...   \n",
       "72         73                        Rod Kaviar          17           8   \n",
       "73         74                     Longlife Tofu           4           7   \n",
       "74         75              Rhonbrau Klosterbier          12           1   \n",
       "75         76                      Lakkalikoori          23           1   \n",
       "76         77  Original Frankfurter grune Sosse          12           2   \n",
       "\n",
       "        QuantityPerUnit  UnitPrice  UnitsInStock  UnitsOnOrder  ReorderLevel  \\\n",
       "0    10 boxes x 30 bags      18.00            39             0            10   \n",
       "1    24 - 12 oz bottles      19.00            17            40            25   \n",
       "2   12 - 550 ml bottles      10.00            13            70            25   \n",
       "3        48 - 6 oz jars      22.00            53             0             0   \n",
       "4              36 boxes      21.35             0             0             0   \n",
       "..                  ...        ...           ...           ...           ...   \n",
       "72      24 - 150 g jars      15.00           101             0             5   \n",
       "73            5 kg pkg.      10.00             4            20             5   \n",
       "74   24 - 0.5 l bottles       7.75           125             0            25   \n",
       "75               500 ml      18.00            57             0            20   \n",
       "76             12 boxes      13.00            32             0            15   \n",
       "\n",
       "    Discontinued  \n",
       "0              1  \n",
       "1              1  \n",
       "2              0  \n",
       "3              0  \n",
       "4              1  \n",
       "..           ...  \n",
       "72             0  \n",
       "73             0  \n",
       "74             0  \n",
       "75             0  \n",
       "76             0  \n",
       "\n",
       "[77 rows x 10 columns]"
      ]
     },
     "metadata": {},
     "output_type": "display_data"
    }
   ],
   "source": [
    "import pandas as pd\n",
    "import os\n",
    "filename = 'products.csv'\n",
    "if not os.path.exists(filename):\n",
    "  print('Fetching from Google Cloud')\n",
    "  filename = 'https://storage.googleapis.com/techtrek-python-joey/techtrek-python/products.csv'\n",
    "df = pd.read_csv(filename)\n",
    "display(df)"
   ]
  },
  {
   "cell_type": "markdown",
   "metadata": {
    "id": "-8Y10S0OY9zT"
   },
   "source": [
    "* Let's do an example data manipulation on this.\n",
    "  * We will filter it to only get the fields for ProductID, ProductName, UnitPrice, and CategoryID that are not Discontinued.\n",
    "  * Then write that out to a new file in JSON format.\n",
    "  * Then, we will take that and calculate the CategoryID average price sorted in descending order."
   ]
  },
  {
   "cell_type": "code",
   "execution_count": 108,
   "metadata": {
    "id": "UP10bCAKaFyR"
   },
   "outputs": [
    {
     "data": {
      "text/html": [
       "<div>\n",
       "<style scoped>\n",
       "    .dataframe tbody tr th:only-of-type {\n",
       "        vertical-align: middle;\n",
       "    }\n",
       "\n",
       "    .dataframe tbody tr th {\n",
       "        vertical-align: top;\n",
       "    }\n",
       "\n",
       "    .dataframe thead th {\n",
       "        text-align: right;\n",
       "    }\n",
       "</style>\n",
       "<table border=\"1\" class=\"dataframe\">\n",
       "  <thead>\n",
       "    <tr style=\"text-align: right;\">\n",
       "      <th></th>\n",
       "      <th>ProductID</th>\n",
       "      <th>ProductName</th>\n",
       "      <th>UnitPrice</th>\n",
       "      <th>CategoryID</th>\n",
       "    </tr>\n",
       "  </thead>\n",
       "  <tbody>\n",
       "    <tr>\n",
       "      <th>2</th>\n",
       "      <td>3</td>\n",
       "      <td>Aniseed Syrup</td>\n",
       "      <td>10.00</td>\n",
       "      <td>2</td>\n",
       "    </tr>\n",
       "    <tr>\n",
       "      <th>3</th>\n",
       "      <td>4</td>\n",
       "      <td>Chef Anton's Cajun Seasoning</td>\n",
       "      <td>22.00</td>\n",
       "      <td>2</td>\n",
       "    </tr>\n",
       "    <tr>\n",
       "      <th>5</th>\n",
       "      <td>6</td>\n",
       "      <td>Grandma's Boysenberry Spread</td>\n",
       "      <td>25.00</td>\n",
       "      <td>2</td>\n",
       "    </tr>\n",
       "    <tr>\n",
       "      <th>6</th>\n",
       "      <td>7</td>\n",
       "      <td>Uncle Bob's Organic Dried Pears</td>\n",
       "      <td>30.00</td>\n",
       "      <td>7</td>\n",
       "    </tr>\n",
       "    <tr>\n",
       "      <th>7</th>\n",
       "      <td>8</td>\n",
       "      <td>Northwoods Cranberry Sauce</td>\n",
       "      <td>40.00</td>\n",
       "      <td>2</td>\n",
       "    </tr>\n",
       "    <tr>\n",
       "      <th>...</th>\n",
       "      <td>...</td>\n",
       "      <td>...</td>\n",
       "      <td>...</td>\n",
       "      <td>...</td>\n",
       "    </tr>\n",
       "    <tr>\n",
       "      <th>72</th>\n",
       "      <td>73</td>\n",
       "      <td>Rod Kaviar</td>\n",
       "      <td>15.00</td>\n",
       "      <td>8</td>\n",
       "    </tr>\n",
       "    <tr>\n",
       "      <th>73</th>\n",
       "      <td>74</td>\n",
       "      <td>Longlife Tofu</td>\n",
       "      <td>10.00</td>\n",
       "      <td>7</td>\n",
       "    </tr>\n",
       "    <tr>\n",
       "      <th>74</th>\n",
       "      <td>75</td>\n",
       "      <td>Rhonbrau Klosterbier</td>\n",
       "      <td>7.75</td>\n",
       "      <td>1</td>\n",
       "    </tr>\n",
       "    <tr>\n",
       "      <th>75</th>\n",
       "      <td>76</td>\n",
       "      <td>Lakkalikoori</td>\n",
       "      <td>18.00</td>\n",
       "      <td>1</td>\n",
       "    </tr>\n",
       "    <tr>\n",
       "      <th>76</th>\n",
       "      <td>77</td>\n",
       "      <td>Original Frankfurter grune Sosse</td>\n",
       "      <td>13.00</td>\n",
       "      <td>2</td>\n",
       "    </tr>\n",
       "  </tbody>\n",
       "</table>\n",
       "<p>67 rows × 4 columns</p>\n",
       "</div>"
      ],
      "text/plain": [
       "    ProductID                       ProductName  UnitPrice  CategoryID\n",
       "2           3                     Aniseed Syrup      10.00           2\n",
       "3           4      Chef Anton's Cajun Seasoning      22.00           2\n",
       "5           6      Grandma's Boysenberry Spread      25.00           2\n",
       "6           7   Uncle Bob's Organic Dried Pears      30.00           7\n",
       "7           8        Northwoods Cranberry Sauce      40.00           2\n",
       "..        ...                               ...        ...         ...\n",
       "72         73                        Rod Kaviar      15.00           8\n",
       "73         74                     Longlife Tofu      10.00           7\n",
       "74         75              Rhonbrau Klosterbier       7.75           1\n",
       "75         76                      Lakkalikoori      18.00           1\n",
       "76         77  Original Frankfurter grune Sosse      13.00           2\n",
       "\n",
       "[67 rows x 4 columns]"
      ]
     },
     "metadata": {},
     "output_type": "display_data"
    }
   ],
   "source": [
    "df2 = df[df['Discontinued'] == 0].loc[:, ['ProductID', 'ProductName', 'UnitPrice', 'CategoryID']]\n",
    "display(df2)\n",
    "df2.to_json('./products.json')"
   ]
  },
  {
   "cell_type": "markdown",
   "metadata": {
    "id": "XDpuiklec9t4"
   },
   "source": [
    "* Read the JSON file just to show how it would work."
   ]
  },
  {
   "cell_type": "code",
   "execution_count": 109,
   "metadata": {
    "id": "K0d63xFwbl4R"
   },
   "outputs": [
    {
     "data": {
      "text/html": [
       "<div>\n",
       "<style scoped>\n",
       "    .dataframe tbody tr th:only-of-type {\n",
       "        vertical-align: middle;\n",
       "    }\n",
       "\n",
       "    .dataframe tbody tr th {\n",
       "        vertical-align: top;\n",
       "    }\n",
       "\n",
       "    .dataframe thead th {\n",
       "        text-align: right;\n",
       "    }\n",
       "</style>\n",
       "<table border=\"1\" class=\"dataframe\">\n",
       "  <thead>\n",
       "    <tr style=\"text-align: right;\">\n",
       "      <th></th>\n",
       "      <th>ProductID</th>\n",
       "      <th>ProductName</th>\n",
       "      <th>UnitPrice</th>\n",
       "      <th>CategoryID</th>\n",
       "    </tr>\n",
       "  </thead>\n",
       "  <tbody>\n",
       "    <tr>\n",
       "      <th>2</th>\n",
       "      <td>3</td>\n",
       "      <td>Aniseed Syrup</td>\n",
       "      <td>10.00</td>\n",
       "      <td>2</td>\n",
       "    </tr>\n",
       "    <tr>\n",
       "      <th>3</th>\n",
       "      <td>4</td>\n",
       "      <td>Chef Anton's Cajun Seasoning</td>\n",
       "      <td>22.00</td>\n",
       "      <td>2</td>\n",
       "    </tr>\n",
       "    <tr>\n",
       "      <th>5</th>\n",
       "      <td>6</td>\n",
       "      <td>Grandma's Boysenberry Spread</td>\n",
       "      <td>25.00</td>\n",
       "      <td>2</td>\n",
       "    </tr>\n",
       "    <tr>\n",
       "      <th>6</th>\n",
       "      <td>7</td>\n",
       "      <td>Uncle Bob's Organic Dried Pears</td>\n",
       "      <td>30.00</td>\n",
       "      <td>7</td>\n",
       "    </tr>\n",
       "    <tr>\n",
       "      <th>7</th>\n",
       "      <td>8</td>\n",
       "      <td>Northwoods Cranberry Sauce</td>\n",
       "      <td>40.00</td>\n",
       "      <td>2</td>\n",
       "    </tr>\n",
       "    <tr>\n",
       "      <th>...</th>\n",
       "      <td>...</td>\n",
       "      <td>...</td>\n",
       "      <td>...</td>\n",
       "      <td>...</td>\n",
       "    </tr>\n",
       "    <tr>\n",
       "      <th>72</th>\n",
       "      <td>73</td>\n",
       "      <td>Rod Kaviar</td>\n",
       "      <td>15.00</td>\n",
       "      <td>8</td>\n",
       "    </tr>\n",
       "    <tr>\n",
       "      <th>73</th>\n",
       "      <td>74</td>\n",
       "      <td>Longlife Tofu</td>\n",
       "      <td>10.00</td>\n",
       "      <td>7</td>\n",
       "    </tr>\n",
       "    <tr>\n",
       "      <th>74</th>\n",
       "      <td>75</td>\n",
       "      <td>Rhonbrau Klosterbier</td>\n",
       "      <td>7.75</td>\n",
       "      <td>1</td>\n",
       "    </tr>\n",
       "    <tr>\n",
       "      <th>75</th>\n",
       "      <td>76</td>\n",
       "      <td>Lakkalikoori</td>\n",
       "      <td>18.00</td>\n",
       "      <td>1</td>\n",
       "    </tr>\n",
       "    <tr>\n",
       "      <th>76</th>\n",
       "      <td>77</td>\n",
       "      <td>Original Frankfurter grune Sosse</td>\n",
       "      <td>13.00</td>\n",
       "      <td>2</td>\n",
       "    </tr>\n",
       "  </tbody>\n",
       "</table>\n",
       "<p>67 rows × 4 columns</p>\n",
       "</div>"
      ],
      "text/plain": [
       "    ProductID                       ProductName  UnitPrice  CategoryID\n",
       "2           3                     Aniseed Syrup      10.00           2\n",
       "3           4      Chef Anton's Cajun Seasoning      22.00           2\n",
       "5           6      Grandma's Boysenberry Spread      25.00           2\n",
       "6           7   Uncle Bob's Organic Dried Pears      30.00           7\n",
       "7           8        Northwoods Cranberry Sauce      40.00           2\n",
       "..        ...                               ...        ...         ...\n",
       "72         73                        Rod Kaviar      15.00           8\n",
       "73         74                     Longlife Tofu      10.00           7\n",
       "74         75              Rhonbrau Klosterbier       7.75           1\n",
       "75         76                      Lakkalikoori      18.00           1\n",
       "76         77  Original Frankfurter grune Sosse      13.00           2\n",
       "\n",
       "[67 rows x 4 columns]"
      ]
     },
     "metadata": {},
     "output_type": "display_data"
    }
   ],
   "source": [
    "import os\n",
    "os.listdir()\n",
    "df3 = pd.read_json('products.json')\n",
    "display(df3)\n"
   ]
  },
  {
   "cell_type": "markdown",
   "metadata": {
    "id": "oH2D-qw5dDDp"
   },
   "source": [
    "* Here, we can apply a <font color='blue' face=\"Courier New\" size=\"+1\">groupby</font> and a <font color='blue' face=\"Courier New\" size=\"+1\">mean</font>."
   ]
  },
  {
   "cell_type": "code",
   "execution_count": 111,
   "metadata": {
    "id": "KNYgBBl_b3Lt"
   },
   "outputs": [
    {
     "name": "stdout",
     "output_type": "stream",
     "text": [
      "CategoryID\n",
      "1    46.027778\n",
      "2    22.990909\n",
      "3    25.160000\n",
      "4    28.730000\n",
      "5    21.291667\n",
      "6    15.725000\n",
      "7    29.062500\n",
      "8    20.682500\n",
      "Name: UnitPrice, dtype: float64\n",
      "            UnitPrice\n",
      "CategoryID           \n",
      "1           46.027778\n",
      "2           22.990909\n",
      "3           25.160000\n",
      "4           28.730000\n",
      "5           21.291667\n",
      "6           15.725000\n",
      "7           29.062500\n",
      "8           20.682500\n"
     ]
    }
   ],
   "source": [
    "average_price_by_category = df3.groupby('CategoryID')['UnitPrice'].mean()\n",
    "\n",
    "# Print the results showing average UnitPrice by CategoryID\n",
    "print(average_price_by_category)\n",
    "\n",
    "df4 = DataFrame(average_price_by_category)\n",
    "print(df4)"
   ]
  },
  {
   "cell_type": "markdown",
   "metadata": {
    "id": "mORQvUH1QhqO"
   },
   "source": [
    "* Finally, turn that into a chart with <font color='blue' face=\"Courier New\" size=\"+1\">matplotlib</font>.\n"
   ]
  },
  {
   "cell_type": "code",
   "execution_count": 112,
   "metadata": {
    "id": "ekHqc8uy7vBF"
   },
   "outputs": [
    {
     "data": {
      "image/png": "[encoded data removed]",
      "text/plain": [
       "<Figure size 640x480 with 1 Axes>"
      ]
     },
     "metadata": {},
     "output_type": "display_data"
    }
   ],
   "source": [
    "import matplotlib.pyplot as plt\n",
    "\n",
    "# Get pie chart slice labels\n",
    "pie_chart_slice_labels = df4.index.to_numpy()  # Assuming the index represents categories\n",
    "\n",
    "# Get pie chart slice values\n",
    "pie_chart_slice_values = df4['UnitPrice'].to_numpy()\n",
    "\n",
    "# Create a pie chart of the UnitPrice data\n",
    "plt.pie(pie_chart_slice_values, labels=pie_chart_slice_labels, autopct=\"%1.1f%%\")\n",
    "plt.title(\"Pie Chart of Unit Price Distribution\")\n",
    "plt.show()"
   ]
  },
  {
   "cell_type": "markdown",
   "metadata": {
    "id": "e0y54jZFStTU"
   },
   "source": [
    "* Here's a bar chart instead."
   ]
  },
  {
   "cell_type": "code",
   "execution_count": 113,
   "metadata": {
    "id": "ZBwERLGK9TpF"
   },
   "outputs": [
    {
     "data": {
      "image/png": "[encoded data removed]",
      "text/plain": [
       "<Figure size 640x480 with 1 Axes>"
      ]
     },
     "metadata": {},
     "output_type": "display_data"
    }
   ],
   "source": [
    "# Get pie chart slice labels\n",
    "category_labels = df4.index.to_numpy()  # Assuming the index represents categories\n",
    "\n",
    "# Get pie chart slice values\n",
    "category_values = df4['UnitPrice'].to_numpy()\n",
    "\n",
    "plt.barh(category_labels, category_values)\n",
    "plt.xlabel(\"Unit Price\")\n",
    "plt.ylabel(\"Category ID\")\n",
    "plt.title(\"Horizontal Bar Chart of Unit Price Distribution\")\n",
    "plt.gca().invert_yaxis()  # Invert y-axis to display highest value at the top\n",
    "plt.tight_layout()\n"
   ]
  },
  {
   "cell_type": "markdown",
   "metadata": {
    "id": "go9sWN84FVRO"
   },
   "source": [
    "## Challenge for later: ##\n",
    "\n",
    "### The aim of this challenge is to gain some experience of working with pandas DataFrame data structure.\n",
    "\n",
    "#### 1.\tTry to encode the following data into a DataFrame object:\n",
    "\n",
    "| id | name | age |\n",
    "| -- | ---- | --- |\n",
    "| 1 | Jack | 30 |\n",
    "| 2 | Mary| 40 |\n",
    "| 3 | Mike | 35 |\n",
    "| 4 | Susan | 25 |\n",
    "\n",
    "#### 2. Find the min, max, and average age from the dataset.\n",
    "<br>\n",
    "<details><summary>Click for <b>hint</b></summary>\n",
    "<p>\n",
    "First, create either a list of dictionaries or dictionary of lists to encode the data.\n",
    "<br>\n",
    "You want id to be the index column so exclude that from your dictionary and supply it separately.<br>\n",
    "<br>\n",
    "<br>\n",
    "</p>\n",
    "</details>\n",
    "\n",
    "\n",
    "<details><summary>Click for <b>code</b></summary>\n",
    "<p>\n",
    "\n",
    "```python\n",
    "import pandas as pd\n",
    "from pandas import DataFrame\n",
    "\n",
    "# Dictionary of lists\n",
    "d = {'name':['Jack', 'Mary', 'Mike', 'Susan'],\n",
    "     'age' : [30, 40, 35, 25]}\n",
    "\n",
    "df = DataFrame(d, index = [1, 2, 3, 4])\n",
    "display(df)\n",
    "\n",
    "# List of Dictionaries\n",
    "d = [{'name' : 'Jack', 'age' : 30}\n",
    "    ,{'name' : 'Mary', 'age' : 40}\n",
    "    ,{'name' : 'Mike', 'age' : 35}\n",
    "    ,{'name' : 'Susan', 'age' : 25}\n",
    "    ]\n",
    "\n",
    "df = DataFrame(d, index = [1, 2, 3, 4])\n",
    "display(df)\n",
    "\n",
    "# Or if you have one big dictionary, you can use list comprehension magic to pull out the id column\n",
    "\n",
    "d = [{'id' : 1, 'name' : 'Jack', 'age' : 30}\n",
    "    ,{'id' : 2, 'name' : 'Mary', 'age' : 40}\n",
    "    ,{'id' : 3, 'name' : 'Mike', 'age' : 35}\n",
    "    ,{'id' : 4, 'name' : 'Susan', 'age' : 25}\n",
    "    ]\n",
    "\n",
    "df = DataFrame(d, index = (x['id'] for x in d), columns = ['name', 'age'])\n",
    "display(df)\n",
    "\n",
    "min_age = df['age'].min()\n",
    "max_age = df['age'].max()\n",
    "avg_age = df['age'].mean()\n",
    "\n",
    "# Print the results\n",
    "print(\"Minimum age:\", min_age)\n",
    "print(\"Maximum age:\", max_age)\n",
    "print(\"Average age:\", avg_age.round(2))  # Round average to two decimal places\n",
    "```\n",
    "</p>\n",
    "</details>"
   ]
  },
  {
   "cell_type": "code",
   "execution_count": null,
   "metadata": {
    "id": "51ug0AX1Fa7-"
   },
   "outputs": [],
   "source": []
  }
 ],
 "metadata": {
  "anaconda-cloud": {},
  "colab": {
   "include_colab_link": true,
   "provenance": []
  },
  "kernelspec": {
   "display_name": "Python 3 (ipykernel)",
   "language": "python",
   "name": "python3"
  },
  "language_info": {
   "codemirror_mode": {
    "name": "ipython",
    "version": 3
   },
   "file_extension": ".py",
   "mimetype": "text/x-python",
   "name": "python",
   "nbconvert_exporter": "python",
   "pygments_lexer": "ipython3",
   "version": "3.11.2"
  }
 },
 "nbformat": 4,
 "nbformat_minor": 4
}
